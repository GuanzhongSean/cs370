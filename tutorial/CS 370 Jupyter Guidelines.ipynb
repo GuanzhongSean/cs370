{
 "cells": [
  {
   "cell_type": "markdown",
   "id": "2b31a464-8696-4451-ab84-cde46b3138ea",
   "metadata": {},
   "source": [
    "# CS 370 Jupyter Notebook Tutorial"
   ]
  },
  {
   "cell_type": "code",
   "execution_count": 1,
   "id": "bd0ea765-096f-49df-8ada-0ae0ac4738cc",
   "metadata": {},
   "outputs": [
    {
     "name": "stdout",
     "output_type": "stream",
     "text": [
      "Hello world\n"
     ]
    }
   ],
   "source": [
    "# You can write python code in each cell and run them individually (Shift + Enter) \n",
    "# this is a really long comment don't do this  dddddddddddddddddddddddddddddddddddddddddddd\n",
    "# Or run them all at once\n",
    "print(\"Hello world\")"
   ]
  },
  {
   "cell_type": "code",
   "execution_count": 2,
   "id": "7c1dcb28-c40a-45f9-867a-62f851a9683d",
   "metadata": {},
   "outputs": [
    {
     "data": {
      "text/plain": [
       "'Hello world'"
      ]
     },
     "execution_count": 2,
     "metadata": {},
     "output_type": "execute_result"
    }
   ],
   "source": [
    "# The last expression in each cell will automatically be printed\n",
    "\"Hello world\""
   ]
  },
  {
   "cell_type": "code",
   "execution_count": 3,
   "id": "dbb1a378-7349-47af-b270-bfefe1f7e877",
   "metadata": {},
   "outputs": [],
   "source": [
    "last_output = _"
   ]
  },
  {
   "cell_type": "code",
   "execution_count": 4,
   "id": "8aafa648-e466-484d-a430-ab7db8c4f8f4",
   "metadata": {},
   "outputs": [
    {
     "data": {
      "text/plain": [
       "'Hello world'"
      ]
     },
     "execution_count": 4,
     "metadata": {},
     "output_type": "execute_result"
    }
   ],
   "source": [
    "last_output"
   ]
  },
  {
   "cell_type": "code",
   "execution_count": 5,
   "id": "f0db7599-c96d-4b55-aaaf-a1c22a1d4727",
   "metadata": {},
   "outputs": [
    {
     "data": {
      "text/plain": [
       "'Goodbye world'"
      ]
     },
     "execution_count": 5,
     "metadata": {},
     "output_type": "execute_result"
    }
   ],
   "source": [
    "# Only the last expression is printed\n",
    "\"Hello world\"\n",
    "\"Goodbye world\""
   ]
  },
  {
   "cell_type": "code",
   "execution_count": 6,
   "id": "c6e7131f-81db-46e0-abde-736d6d8a9754",
   "metadata": {},
   "outputs": [],
   "source": [
    "# Variables are stored throughout the entire notebook, not just a single cell\n",
    "x = 1"
   ]
  },
  {
   "cell_type": "code",
   "execution_count": 7,
   "id": "2f987cbd-13b0-4ad8-b0d0-f478375c19a3",
   "metadata": {},
   "outputs": [
    {
     "data": {
      "text/plain": [
       "1"
      ]
     },
     "execution_count": 7,
     "metadata": {},
     "output_type": "execute_result"
    }
   ],
   "source": [
    "# You can access previously defined variables at any point in the future\n",
    "x"
   ]
  },
  {
   "cell_type": "code",
   "execution_count": 8,
   "id": "45e5868b-d9cd-4427-9687-66d5e0c5b170",
   "metadata": {},
   "outputs": [
    {
     "ename": "NameError",
     "evalue": "name 'y' is not defined",
     "output_type": "error",
     "traceback": [
      "\u001b[1;31m---------------------------------------------------------------------------\u001b[0m",
      "\u001b[1;31mNameError\u001b[0m                                 Traceback (most recent call last)",
      "Cell \u001b[1;32mIn[8], line 2\u001b[0m\n\u001b[0;32m      1\u001b[0m \u001b[38;5;66;03m# You can execute the cells in any order. It doesn't have to be top down.\u001b[39;00m\n\u001b[1;32m----> 2\u001b[0m \u001b[43my\u001b[49m\n",
      "\u001b[1;31mNameError\u001b[0m: name 'y' is not defined"
     ]
    }
   ],
   "source": [
    "# You can execute the cells in any order. It doesn't have to be top down.\n",
    "y"
   ]
  },
  {
   "cell_type": "code",
   "execution_count": null,
   "id": "1adbe62f-d42c-4d68-9ce8-9244108cf77d",
   "metadata": {},
   "outputs": [],
   "source": [
    "# If this cell runs before the one above, y will have already been defined!\n",
    "# Note that it's bad practice to define a variable in a later cell than when you use it though!\n",
    "y = 10"
   ]
  },
  {
   "cell_type": "code",
   "execution_count": 12,
   "id": "613e3168-8b07-4a06-af78-20aec821a5a1",
   "metadata": {},
   "outputs": [],
   "source": [
    "# Function definitions usually take up their own cell\n",
    "# Remember to re-run this cell whenever you make changes to the function!\n",
    "def volume_of_rectangle(l, w, h):\n",
    "    return 2*l*w*h"
   ]
  },
  {
   "cell_type": "code",
   "execution_count": 13,
   "id": "3259af3b-42e2-4765-995d-1e40f6e0cbe5",
   "metadata": {},
   "outputs": [
    {
     "data": {
      "text/plain": [
       "2000"
      ]
     },
     "execution_count": 13,
     "metadata": {},
     "output_type": "execute_result"
    }
   ],
   "source": [
    "volume_of_rectangle(10, 10, 10)"
   ]
  },
  {
   "cell_type": "code",
   "execution_count": null,
   "id": "6052521a-2d1e-47f6-af5c-09da46bfef33",
   "metadata": {},
   "outputs": [],
   "source": []
  },
  {
   "cell_type": "code",
   "execution_count": null,
   "id": "edc180e5-eb8e-462a-8c5e-5eb58ff6cdf2",
   "metadata": {},
   "outputs": [],
   "source": [
    "# Stuck in an infinite loop? Code takes too long to execute? You can interrupt the kernel to force stop current cell execution.\n",
    "# This will not erase any variables stored in the current runtime.\n",
    "while True:\n",
    "    pass"
   ]
  },
  {
   "cell_type": "code",
   "execution_count": null,
   "id": "0003305a-200b-43be-a685-2ebf54601c08",
   "metadata": {},
   "outputs": [],
   "source": [
    "# If you want to clear all stored variables, restart the kernel!"
   ]
  },
  {
   "cell_type": "markdown",
   "id": "dd935836-a07b-4b3d-8857-5aaa6ab2a4b1",
   "metadata": {},
   "source": [
    "# Using Python Libraries"
   ]
  },
  {
   "cell_type": "code",
   "execution_count": 10,
   "id": "43b39f80-41f8-452e-a0fb-ddb74a5d45b1",
   "metadata": {},
   "outputs": [],
   "source": [
    "#!pip install matplotlib\n",
    "import matplotlib.pyplot as plt"
   ]
  },
  {
   "cell_type": "code",
   "execution_count": 11,
   "id": "95b1d1ad-d524-4778-93eb-5ba6c911faac",
   "metadata": {},
   "outputs": [
    {
     "data": {
      "image/png": "[encoded data removed]",
      "text/plain": [
       "<Figure size 640x480 with 1 Axes>"
      ]
     },
     "metadata": {},
     "output_type": "display_data"
    }
   ],
   "source": [
    "plt.plot([1, 2, 3, 4])\n",
    "plt.ylabel('A graph')\n",
    "plt.show()"
   ]
  },
  {
   "cell_type": "code",
   "execution_count": null,
   "id": "b1e95299-9bc2-418b-9bac-e0d8d0941298",
   "metadata": {},
   "outputs": [],
   "source": []
  },
  {
   "cell_type": "markdown",
   "id": "5fd8cd7f-5b79-4b43-8a96-5c64d8bcec28",
   "metadata": {},
   "source": [
    "Text"
   ]
  },
  {
   "cell_type": "markdown",
   "id": "7a6e20b7-2382-429f-94a8-3e1e3be671ef",
   "metadata": {},
   "source": [
    "# Use Markdown to label sections of your code\n",
    "### There are different sizes of headers\n",
    "You can do $\\mathbb{LATEX}$ too."
   ]
  },
  {
   "cell_type": "markdown",
   "id": "fa0ce8e0-6716-436c-b173-82a1a14e8db2",
   "metadata": {},
   "source": [
    "To add markdown comments, click on a cell, and from the dropdown above where it says \"Code\", change it to \"Markdown.\""
   ]
  },
  {
   "cell_type": "markdown",
   "id": "e240c7b6-c18b-4100-b42d-a59d5ee845e0",
   "metadata": {},
   "source": [
    "# This is a header\n",
    "## Slightly smaller header\n",
    "### Add more \\# to make header smaller"
   ]
  },
  {
   "cell_type": "markdown",
   "id": "cb6b995f-283c-4b21-8276-66b041ca663d",
   "metadata": {},
   "source": [
    "# You can also add images using ''\\!\\[text\\](image_url)''"
   ]
  },
  {
   "cell_type": "markdown",
   "id": "a0498cda-5495-4aba-946e-3b7099f93ab2",
   "metadata": {},
   "source": [
    "![Sample Image](goose.png)\n",
    "\n",
    "(Credit to https://www.reddit.com/r/uwaterloo/comments/7krcq4/thank_mr_goose/)"
   ]
  },
  {
   "cell_type": "markdown",
   "id": "889b8e05-eb97-4255-bcd9-6e4cc13d4cfe",
   "metadata": {},
   "source": [
    "# Submitting your notebook\n",
    "### Remember that you will need to submit Jupyter problems twice - once on learn and once on Crowdmark.\n",
    "* Submit the Jupyter notebook source file to Learn (the file should have extension `.ipynb`)\n",
    "  * This will either be where you saved your notebook locally, or you can go to `File` -> `Download` to make a local copy\n",
    "* Submit a pdf of your notebook to Crowdmark\n",
    "  * The `export as pdf` feature of Jupyter is (usually) broken.\n",
    "  * Instead, you can `export as HTML`, then print the `HTML` document to `pdf`"
   ]
  },
  {
   "cell_type": "markdown",
   "id": "816207cb-d8fe-4a2b-94e9-f8ae6eda6770",
   "metadata": {},
   "source": [
    "#"
   ]
  },
  {
   "cell_type": "markdown",
   "id": "3fc4a893-3290-4995-9ad1-f2af47ace07a",
   "metadata": {},
   "source": [
    "# Questions?\n",
    "#### Feel free to ask on Piazza or email one of us if you need further help! :)"
   ]
  },
  {
   "cell_type": "code",
   "execution_count": null,
   "id": "088c40b6-81bc-4548-aad2-52fc8ae22377",
   "metadata": {},
   "outputs": [],
   "source": []
  },
  {
   "cell_type": "code",
   "execution_count": 9,
   "id": "385810ab-e8a2-4f51-8571-0caf654c6c46",
   "metadata": {},
   "outputs": [],
   "source": [
    "import numpy as np"
   ]
  },
  {
   "cell_type": "code",
   "execution_count": null,
   "id": "43a0d42f-664a-4c0c-8cd1-be092a71d18e",
   "metadata": {},
   "outputs": [],
   "source": []
  }
 ],
 "metadata": {
  "kernelspec": {
   "display_name": "Python 3 (ipykernel)",
   "language": "python",
   "name": "python3"
  },
  "language_info": {
   "codemirror_mode": {
    "name": "ipython",
    "version": 3
   },
   "file_extension": ".py",
   "mimetype": "text/x-python",
   "name": "python",
   "nbconvert_exporter": "python",
   "pygments_lexer": "ipython3",
   "version": "3.13.1"
  }
 },
 "nbformat": 4,
 "nbformat_minor": 5
}
