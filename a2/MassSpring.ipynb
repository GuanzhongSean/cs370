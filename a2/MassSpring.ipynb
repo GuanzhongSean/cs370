{
 "cells": [
  {
   "cell_type": "code",
   "execution_count": 1,
   "id": "e79dd599",
   "metadata": {
    "tags": []
   },
   "outputs": [],
   "source": [
    "# Import libraries\n",
    "\n",
    "# Math stuff\n",
    "import numpy as np\n",
    "import math\n",
    "\n",
    "# Plotting stuff\n",
    "import matplotlib.pyplot as plt\n",
    "import matplotlib.animation\n",
    "%matplotlib inline\n",
    "\n",
    "# ODE stuff\n",
    "from scipy.integrate import solve_ivp"
   ]
  },
  {
   "cell_type": "code",
   "execution_count": 2,
   "id": "b863390d",
   "metadata": {
    "tags": []
   },
   "outputs": [],
   "source": [
    "# Dynamics function for the ODE\n",
    "def dynamics_function(t, z):\n",
    "    # The dynamics function accepts time t and vector z as input, and \n",
    "    # returns the resulting vector of derivative values given \n",
    "    # by z' (i.e., the vector dzdt)\n",
    "    \n",
    "    #the entries of the incoming z vector will contain the following data\n",
    "    #z[0] = x-position of projectile 1, x1(t)\n",
    "    #z[1] = y-position of projectile 1, y1(t)\n",
    "    #z[2] = x-position of projectile 2, x2(t)\n",
    "    #z[3] = y-position of projectile 2, y2(t)\n",
    "    #z[4] = x-velocity of projectile 1, u1(t)\n",
    "    #z[5] = y-velocity of projectile 1, v1(t)\n",
    "    #z[6] = x-velocity of projectile 2, u2(t)\n",
    "    #z[7] = y-velocity of projectile 2, v2(t)\n",
    "    #this is essentially the current state of the ODE system\n",
    "    \n",
    "    #create the empty z' vector\n",
    "    dzdt = np.zeros(8);\n",
    "    \n",
    "    #*************\n",
    "    #TODO HERE: Fill 'dzdt' with a vector of the necessary derivative data according to the problem's dynamics function,\n",
    "    #           consistent with the ordering of variables listed above\n",
    "    \n",
    "    #dzdt = [???]\n",
    "    \n",
    " \n",
    "\n",
    "    #*************\n",
    "    \n",
    "    # return the vector for SciPy's solver to use.\n",
    "    return dzdt;\n",
    "        \n",
    "\n",
    "    "
   ]
  },
  {
   "cell_type": "code",
   "execution_count": 3,
   "id": "6d664b5b-1094-4548-8df3-95929c1e15de",
   "metadata": {
    "tags": []
   },
   "outputs": [],
   "source": [
    "# We'll also define an \"event function\" to terminate the simulation \n",
    "# when one of the two projectiles first hits the ground (y=0).\n",
    "# The IVP solver will check this condition behind the scenes for us, based on the function below.\n",
    "def ground_event(t,z):\n",
    "    #*************\n",
    "    #TODO HERE: set the variable 'miny' to the lower of the two y-values of the two objects,\n",
    "    #extracted from the current state vector z\n",
    "    \n",
    "    #miny = ???\n",
    "    \n",
    "\n",
    "    #*************\n",
    "    return miny\n",
    "\n",
    "ground_event.terminal = True #halt on impact (when the lower of the two objects hits y=0)\n",
    "ground_event.direction = -1 #only count positive-to-negative crossings of the height (y)\n"
   ]
  },
  {
   "cell_type": "code",
   "execution_count": 4,
   "id": "8ca946fb",
   "metadata": {
    "tags": []
   },
   "outputs": [
    {
     "ename": "NameError",
     "evalue": "name 'z0' is not defined",
     "output_type": "error",
     "traceback": [
      "\u001b[1;31m---------------------------------------------------------------------------\u001b[0m",
      "\u001b[1;31mNameError\u001b[0m                                 Traceback (most recent call last)",
      "Cell \u001b[1;32mIn[4], line 21\u001b[0m\n\u001b[0;32m     13\u001b[0m tspan \u001b[38;5;241m=\u001b[39m [\u001b[38;5;241m0\u001b[39m, \u001b[38;5;241m30\u001b[39m] \n\u001b[0;32m     15\u001b[0m \u001b[38;5;66;03m# Below we call the SciPy's numerical IVP solver to solve the problem\u001b[39;00m\n\u001b[0;32m     16\u001b[0m \u001b[38;5;66;03m# It takes in the dynamics function, desired time range, and the initial conditions z0\u001b[39;00m\n\u001b[0;32m     17\u001b[0m \u001b[38;5;66;03m# It then calculates a vector of discrete times, sol.t, \u001b[39;00m\n\u001b[0;32m     18\u001b[0m \u001b[38;5;66;03m# and corresponding vectors of discrete solution data sol.y\u001b[39;00m\n\u001b[0;32m     19\u001b[0m \u001b[38;5;66;03m# It also uses adaptive timestepping - but we'll limit the max step size to 0.05 so we see plenty of steps\u001b[39;00m\n\u001b[0;32m     20\u001b[0m \u001b[38;5;66;03m# Finally, we specify the ground_event to halt when the objects hit the ground.\u001b[39;00m\n\u001b[1;32m---> 21\u001b[0m sol \u001b[38;5;241m=\u001b[39m solve_ivp(dynamics_function, tspan, z0, max_step \u001b[38;5;241m=\u001b[39m \u001b[38;5;241m0.05\u001b[39m, events \u001b[38;5;241m=\u001b[39m ground_event)\n\u001b[0;32m     23\u001b[0m \u001b[38;5;66;03m#display the resulting motion as a static image\u001b[39;00m\n\u001b[0;32m     24\u001b[0m \u001b[38;5;66;03m#y_target = np.full_like(sol.y[4], 0)\u001b[39;00m\n\u001b[0;32m     25\u001b[0m \n\u001b[0;32m     26\u001b[0m \u001b[38;5;66;03m#plot path of projectiles\u001b[39;00m\n\u001b[0;32m     27\u001b[0m plt\u001b[38;5;241m.\u001b[39mplot(sol\u001b[38;5;241m.\u001b[39my[\u001b[38;5;241m0\u001b[39m], sol\u001b[38;5;241m.\u001b[39my[\u001b[38;5;241m1\u001b[39m], \u001b[38;5;124m'\u001b[39m\u001b[38;5;124mr-o\u001b[39m\u001b[38;5;124m'\u001b[39m, markersize\u001b[38;5;241m=\u001b[39m\u001b[38;5;241m5\u001b[39m) \u001b[38;5;66;03m#lighter\u001b[39;00m\n",
      "\u001b[1;31mNameError\u001b[0m: name 'z0' is not defined"
     ]
    }
   ],
   "source": [
    "# Set up the information needed to solve the initial value problem\n",
    "\n",
    "#*************\n",
    "#TODO HERE: Fill the vector z0 below with the necessary initial state data.\n",
    "#           Refer to the comment in the dynamics_function for the ordering of variables.\n",
    "\n",
    "#z0 = [???] \n",
    "    \n",
    "\n",
    "#*************\n",
    "\n",
    "# Specify the timespan for simulation. We simulate from 0 to 30 (unless an *event* happens first!)\n",
    "tspan = [0, 30] \n",
    "\n",
    "# Below we call the SciPy's numerical IVP solver to solve the problem\n",
    "# It takes in the dynamics function, desired time range, and the initial conditions z0\n",
    "# It then calculates a vector of discrete times, sol.t, \n",
    "# and corresponding vectors of discrete solution data sol.y\n",
    "# It also uses adaptive timestepping - but we'll limit the max step size to 0.05 so we see plenty of steps\n",
    "# Finally, we specify the ground_event to halt when the objects hit the ground.\n",
    "sol = solve_ivp(dynamics_function, tspan, z0, max_step = 0.05, events = ground_event)\n",
    "\n",
    "#display the resulting motion as a static image\n",
    "#y_target = np.full_like(sol.y[4], 0)\n",
    "\n",
    "#plot path of projectiles\n",
    "plt.plot(sol.y[0], sol.y[1], 'r-o', markersize=5) #lighter\n",
    "plt.plot(sol.y[2], sol.y[3], 'b-o', markersize=10) #heavier\n",
    "\n",
    "#plot a line for the spring at each time\n",
    "for i in range(len(sol.t)):\n",
    "    plt.plot([sol.y[0][i],sol.y[2][i]], [sol.y[1][i], sol.y[3][i]], 'm-',linewidth=0.3)\n",
    "\n",
    "plt.show()"
   ]
  },
  {
   "cell_type": "code",
   "execution_count": 5,
   "id": "a0300871",
   "metadata": {
    "tags": []
   },
   "outputs": [
    {
     "ename": "NameError",
     "evalue": "name 'sol' is not defined",
     "output_type": "error",
     "traceback": [
      "\u001b[1;31m---------------------------------------------------------------------------\u001b[0m",
      "\u001b[1;31mNameError\u001b[0m                                 Traceback (most recent call last)",
      "Cell \u001b[1;32mIn[5], line 2\u001b[0m\n\u001b[0;32m      1\u001b[0m \u001b[38;5;66;03m#display the result as an actual animation, to see the motion and enjoy increased amounts of fun\u001b[39;00m\n\u001b[1;32m----> 2\u001b[0m x \u001b[38;5;241m=\u001b[39m sol\u001b[38;5;241m.\u001b[39my[\u001b[38;5;241m0\u001b[39m] \n\u001b[0;32m      3\u001b[0m y \u001b[38;5;241m=\u001b[39m sol\u001b[38;5;241m.\u001b[39my[\u001b[38;5;241m1\u001b[39m] \n\u001b[0;32m      5\u001b[0m x2 \u001b[38;5;241m=\u001b[39m sol\u001b[38;5;241m.\u001b[39my[\u001b[38;5;241m2\u001b[39m] \n",
      "\u001b[1;31mNameError\u001b[0m: name 'sol' is not defined"
     ]
    }
   ],
   "source": [
    "#display the result as an actual animation, to see the motion and enjoy increased amounts of fun\n",
    "x = sol.y[0] \n",
    "y = sol.y[1] \n",
    "\n",
    "x2 = sol.y[2] \n",
    "y2 = sol.y[3] \n",
    "\n",
    "fig, ax = plt.subplots()\n",
    "ax.axis([-6,10,-5,80])\n",
    "l, = ax.plot([],[])\n",
    "dots, = ax.plot([],[], 'r.', markersize=10)\n",
    "\n",
    "l2, = ax.plot([],[])\n",
    "dots2, = ax.plot([],[], 'b.', markersize=20)\n",
    "\n",
    "line, = ax.plot([],[], 'm-')\n",
    "\n",
    "def animate(i):\n",
    "    l.set_data([x[i]], [y[i]])\n",
    "    dots.set_data([x[i]], [y[i]])\n",
    "    l2.set_data([x2[i]], [y2[i]])\n",
    "    dots2.set_data([x2[i]], [y2[i]])\n",
    "    line.set_data([x[i],x2[i]], [y[i],y2[i]])\n",
    "\n",
    "ani = matplotlib.animation.FuncAnimation(fig, animate, frames=len(x))\n",
    "\n",
    "from IPython.display import HTML\n",
    "HTML(ani.to_jshtml()) #use javascript player\n",
    "#HTML(ani.to_html5_video())  #use html5 video\n",
    "\n",
    "#You can try writing the file to disk as a video using the code below, if you have ffmpeg set up\n",
    "#or maybe make further modifications to produce an animated GIF.\n",
    "#FFwriter = matplotlib.animation.FFMpegWriter(fps=30)\n",
    "#ani.save('animation.mp4', writer = FFwriter)"
   ]
  },
  {
   "cell_type": "code",
   "execution_count": null,
   "id": "c2960a86",
   "metadata": {},
   "outputs": [],
   "source": []
  }
 ],
 "metadata": {
  "kernelspec": {
   "display_name": "Python 3 (ipykernel)",
   "language": "python",
   "name": "python3"
  },
  "language_info": {
   "codemirror_mode": {
    "name": "ipython",
    "version": 3
   },
   "file_extension": ".py",
   "mimetype": "text/x-python",
   "name": "python",
   "nbconvert_exporter": "python",
   "pygments_lexer": "ipython3",
   "version": "3.11.5"
  }
 },
 "nbformat": 4,
 "nbformat_minor": 5
}
